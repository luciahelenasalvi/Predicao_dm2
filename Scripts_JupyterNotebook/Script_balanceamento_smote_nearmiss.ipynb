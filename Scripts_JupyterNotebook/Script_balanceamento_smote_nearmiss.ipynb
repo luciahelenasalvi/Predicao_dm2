{
 "cells": [
  {
   "cell_type": "markdown",
   "metadata": {},
   "source": [
    "# Balanceamento - Smote e Near miss"
   ]
  },
  {
   "cell_type": "code",
   "execution_count": 34,
   "metadata": {},
   "outputs": [],
   "source": [
    "# importação dos pacotes que serão utilizados\n",
    "import pandas as pd\n",
    "import matplotlib.pyplot as plt\n",
    "import numpy as np\n",
    "import seaborn as sns\n",
    "import warnings\n",
    "warnings.filterwarnings(\"ignore\")"
   ]
  },
  {
   "cell_type": "code",
   "execution_count": 35,
   "metadata": {},
   "outputs": [],
   "source": [
    "# Leitura do arquivo CSV com separador \",\" e codificação UTF-8\n",
    "diabetes =  pd.read_csv(\"arquivo.csv\", sep = ',', encoding = 'UTF-8')"
   ]
  },
  {
   "cell_type": "code",
   "execution_count": 36,
   "metadata": {},
   "outputs": [
    {
     "data": {
      "text/html": [
       "<div>\n",
       "<style scoped>\n",
       "    .dataframe tbody tr th:only-of-type {\n",
       "        vertical-align: middle;\n",
       "    }\n",
       "\n",
       "    .dataframe tbody tr th {\n",
       "        vertical-align: top;\n",
       "    }\n",
       "\n",
       "    .dataframe thead th {\n",
       "        text-align: right;\n",
       "    }\n",
       "</style>\n",
       "<table border=\"1\" class=\"dataframe\">\n",
       "  <thead>\n",
       "    <tr style=\"text-align: right;\">\n",
       "      <th></th>\n",
       "      <th>RIDAGEYR</th>\n",
       "      <th>URXUMA</th>\n",
       "      <th>URXCRS</th>\n",
       "      <th>LBDSCHSI</th>\n",
       "      <th>LBDSGLSI</th>\n",
       "      <th>LBXSGL</th>\n",
       "      <th>LBXGH</th>\n",
       "      <th>BMXWT</th>\n",
       "      <th>BMXHT</th>\n",
       "      <th>BMXWAIST</th>\n",
       "      <th>CLASSE</th>\n",
       "    </tr>\n",
       "  </thead>\n",
       "  <tbody>\n",
       "    <tr>\n",
       "      <th>0</th>\n",
       "      <td>60</td>\n",
       "      <td>8.3</td>\n",
       "      <td>21127.6</td>\n",
       "      <td>6.362</td>\n",
       "      <td>4.77</td>\n",
       "      <td>86</td>\n",
       "      <td>5.9</td>\n",
       "      <td>120.2</td>\n",
       "      <td>166.7</td>\n",
       "      <td>124.1</td>\n",
       "      <td>0</td>\n",
       "    </tr>\n",
       "    <tr>\n",
       "      <th>1</th>\n",
       "      <td>56</td>\n",
       "      <td>3.1</td>\n",
       "      <td>5922.8</td>\n",
       "      <td>5.327</td>\n",
       "      <td>4.88</td>\n",
       "      <td>88</td>\n",
       "      <td>5.2</td>\n",
       "      <td>48.8</td>\n",
       "      <td>157.5</td>\n",
       "      <td>71.4</td>\n",
       "      <td>0</td>\n",
       "    </tr>\n",
       "    <tr>\n",
       "      <th>2</th>\n",
       "      <td>36</td>\n",
       "      <td>11.8</td>\n",
       "      <td>22011.6</td>\n",
       "      <td>6.258</td>\n",
       "      <td>4.61</td>\n",
       "      <td>83</td>\n",
       "      <td>5.1</td>\n",
       "      <td>57.9</td>\n",
       "      <td>179.1</td>\n",
       "      <td>76.0</td>\n",
       "      <td>0</td>\n",
       "    </tr>\n",
       "    <tr>\n",
       "      <th>3</th>\n",
       "      <td>13</td>\n",
       "      <td>-1.0</td>\n",
       "      <td>-1.0</td>\n",
       "      <td>-1.000</td>\n",
       "      <td>-1.00</td>\n",
       "      <td>-1</td>\n",
       "      <td>-1.0</td>\n",
       "      <td>-1.0</td>\n",
       "      <td>-1.0</td>\n",
       "      <td>-1.0</td>\n",
       "      <td>0</td>\n",
       "    </tr>\n",
       "    <tr>\n",
       "      <th>4</th>\n",
       "      <td>77</td>\n",
       "      <td>29.8</td>\n",
       "      <td>17149.6</td>\n",
       "      <td>5.612</td>\n",
       "      <td>5.44</td>\n",
       "      <td>98</td>\n",
       "      <td>5.5</td>\n",
       "      <td>69.9</td>\n",
       "      <td>163.4</td>\n",
       "      <td>94.2</td>\n",
       "      <td>0</td>\n",
       "    </tr>\n",
       "  </tbody>\n",
       "</table>\n",
       "</div>"
      ],
      "text/plain": [
       "   RIDAGEYR  URXUMA   URXCRS  LBDSCHSI  LBDSGLSI  LBXSGL  LBXGH  BMXWT  BMXHT  \\\n",
       "0        60     8.3  21127.6     6.362      4.77      86    5.9  120.2  166.7   \n",
       "1        56     3.1   5922.8     5.327      4.88      88    5.2   48.8  157.5   \n",
       "2        36    11.8  22011.6     6.258      4.61      83    5.1   57.9  179.1   \n",
       "3        13    -1.0     -1.0    -1.000     -1.00      -1   -1.0   -1.0   -1.0   \n",
       "4        77    29.8  17149.6     5.612      5.44      98    5.5   69.9  163.4   \n",
       "\n",
       "   BMXWAIST  CLASSE  \n",
       "0     124.1       0  \n",
       "1      71.4       0  \n",
       "2      76.0       0  \n",
       "3      -1.0       0  \n",
       "4      94.2       0  "
      ]
     },
     "execution_count": 36,
     "metadata": {},
     "output_type": "execute_result"
    }
   ],
   "source": [
    "# Mostra os atributos de 3 registros\n",
    "diabetes.head(5)"
   ]
  },
  {
   "cell_type": "code",
   "execution_count": 37,
   "metadata": {},
   "outputs": [
    {
     "data": {
      "text/plain": [
       "(20117, 11)"
      ]
     },
     "execution_count": 37,
     "metadata": {},
     "output_type": "execute_result"
    }
   ],
   "source": [
    "# Mostra o shape do dataset\n",
    "diabetes.shape"
   ]
  },
  {
   "cell_type": "markdown",
   "metadata": {},
   "source": [
    "# Avaliação de Modelos Preditivos\n",
    "\n",
    "## Amostragem - Resampling\n",
    "\n",
    "Você precisa saber se seu modelo preditivo vai funcionar bem quando receber novos dados. A melhor maneira de avaliar a performance do modelo é fazer previsões em dados que você já conhece o resultado. Outra maneira de testar a performance do seu modelo é utilizar técnicas estatísticas como métodos de amostragem que permitem você estimar quão bem seu modelo irá fazer previsões em novos dados.\n",
    "\n",
    "A avaliação do modelo é uma estimativa de quão bem o algoritmo será capaz de prever em novos dados. Isso não garante performance. Após avaliar o modelo, nós podemos treiná-lo novamente com os dados de treino e então prepará-lo para uso operacional em produção. Existem diversas técnicas para isso e estudaremos \"Conjunto de dados de treino e de teste\"."
   ]
  },
  {
   "cell_type": "markdown",
   "metadata": {},
   "source": [
    "### Dados de Treino e de Teste\n",
    "\n",
    "Documentação: https://scikit-learn.org/stable/modules/generated/sklearn.model_selection.train_test_split.html\n",
    "\n",
    "Este é o método mais utilizado para avaliar performance de um algoritmo de Machine Learning. \n",
    "\n",
    "Dividimos nossos dados originais em dados de treino e de teste. \n",
    "\n",
    "Treinamos o algoritmo nos dados de treino e fazemos as previsões nos dados de teste e avaliamos o resultado. \n",
    "\n",
    "A divisão dos dados vai depender do seu dataset, mas utiliza-se com frequência tamanhos entre 70/30 (treino/teste) e 65/35 (treino/teste).\n",
    "\n",
    "Este método é bem veloz e ideal para conjuntos de dados muito grandes. \n",
    "\n",
    "O ponto negativo é a possibilidade de alta variância."
   ]
  },
  {
   "cell_type": "markdown",
   "metadata": {},
   "source": [
    "## Avaliando a Performance\n",
    "\n",
    "\n",
    "As métricas que você escolhe para avaliar a performance do modelo vão influenciar a forma como a performance é medida e comparada com modelos criados com outros algoritmos.\n",
    "\n",
    "Vamos utilizar o mesmo algoritmo, mas com métricas diferentes e assim comparar os resultados. "
   ]
  },
  {
   "cell_type": "markdown",
   "metadata": {},
   "source": [
    "### Métricas para Algoritmos de Classificação\n",
    "\n",
    "Documentação: https://scikit-learn.org/stable/modules/model_evaluation.html."
   ]
  },
  {
   "cell_type": "code",
   "execution_count": 38,
   "metadata": {},
   "outputs": [],
   "source": [
    "# Importando os módulos necessários\n",
    "\n",
    "from sklearn.model_selection import train_test_split\n",
    "from sklearn.metrics import confusion_matrix\n",
    "from sklearn.metrics import classification_report\n",
    "# Algoritmo Regressão Logística (Classificação do Aprendizado de Máquina Supervisionado)\n",
    "# utilizado para ilustração\n",
    "from sklearn.linear_model import LogisticRegression"
   ]
  },
  {
   "cell_type": "code",
   "execution_count": 39,
   "metadata": {},
   "outputs": [],
   "source": [
    "# Leitura do arquivo CSV com separador \",\" e codificação UTF-8\n",
    "diabetes =  pd.read_csv(\"modelo.csv\", sep = ',', encoding = 'UTF-8')"
   ]
  },
  {
   "cell_type": "code",
   "execution_count": 40,
   "metadata": {},
   "outputs": [
    {
     "data": {
      "text/plain": [
       "(20117, 11)"
      ]
     },
     "execution_count": 40,
     "metadata": {},
     "output_type": "execute_result"
    }
   ],
   "source": [
    "# Mostra o shape (formato) do dataset\n",
    "diabetes.shape"
   ]
  },
  {
   "cell_type": "code",
   "execution_count": 41,
   "metadata": {},
   "outputs": [
    {
     "data": {
      "text/plain": [
       "0    18175\n",
       "1     1942\n",
       "Name: CLASSE, dtype: int64"
      ]
     },
     "execution_count": 41,
     "metadata": {},
     "output_type": "execute_result"
    }
   ],
   "source": [
    "# Apresenta a quantidade de objetos de cada classe\n",
    "# Observe-se que para dados desbalanceados, o algoritmo de Machine Learning aprenda mais sobre a classe majoritária \n",
    "# e menos da classe minoritária \n",
    "#Obs: no dataset utilizado, a variável \"CLASSE\" estava gravada com letras maiúsculas\n",
    "diabetes.CLASSE.value_counts()"
   ]
  },
  {
   "cell_type": "code",
   "execution_count": 42,
   "metadata": {},
   "outputs": [],
   "source": [
    "# Carregando os dados\n",
    "array = diabetes.values"
   ]
  },
  {
   "cell_type": "code",
   "execution_count": 43,
   "metadata": {},
   "outputs": [],
   "source": [
    "# Separando o array em componentes de entrada (atributos preditivos) e output (atributo alvo)\n",
    "X = array[:,0:19] # todos os objetos do atributo 0 ao atributo 19 (exclusivo)\n",
    "Y = array[:,19]"
   ]
  },
  {
   "cell_type": "code",
   "execution_count": 44,
   "metadata": {},
   "outputs": [],
   "source": [
    "# Definindo o tamanho das amostras\n",
    "teste_size = 0.33\n",
    "\n",
    "# Garante que os resultados podem ser reproduzidos\n",
    "# Isso é importante para comparar a acurácia com outros algoritmos de Machine Learning.\n",
    "seed = 7"
   ]
  },
  {
   "cell_type": "code",
   "execution_count": 45,
   "metadata": {},
   "outputs": [],
   "source": [
    "# Criando os conjuntos de dados de treino e de teste\n",
    "X_treino, X_teste, Y_treino, Y_teste = train_test_split(X, Y, test_size = teste_size, random_state = seed)"
   ]
  },
  {
   "cell_type": "code",
   "execution_count": 46,
   "metadata": {},
   "outputs": [],
   "source": [
    "# Criando o objeto que vai obter o modelo \n",
    "modelo = LogisticRegression()"
   ]
  },
  {
   "cell_type": "code",
   "execution_count": 47,
   "metadata": {},
   "outputs": [
    {
     "data": {
      "text/plain": [
       "LogisticRegression()"
      ]
     },
     "execution_count": 47,
     "metadata": {},
     "output_type": "execute_result"
    }
   ],
   "source": [
    "# Treinamento do modelo\n",
    "modelo.fit(X_treino, Y_treino)"
   ]
  },
  {
   "cell_type": "code",
   "execution_count": 48,
   "metadata": {},
   "outputs": [],
   "source": [
    "# Fazendo as previsões e construindo a Matriz de Confusão\n",
    "previsoes = modelo.predict(X_teste)\n",
    "matrix = confusion_matrix(Y_teste, previsoes)"
   ]
  },
  {
   "cell_type": "code",
   "execution_count": 49,
   "metadata": {},
   "outputs": [],
   "source": [
    "# construindo o relatório de resultados\n",
    "report = classification_report(Y_teste, previsoes)"
   ]
  },
  {
   "cell_type": "code",
   "execution_count": 50,
   "metadata": {},
   "outputs": [],
   "source": [
    "# Score do modelo nos dados de teste  (Acurácia)\n",
    "result = modelo.score(X_teste, Y_teste)"
   ]
  },
  {
   "cell_type": "code",
   "execution_count": 51,
   "metadata": {},
   "outputs": [
    {
     "name": "stdout",
     "output_type": "stream",
     "text": [
      "Acurácia nos Dados de Teste: 83.522%\n"
     ]
    }
   ],
   "source": [
    "# Imprime os resultados\n",
    "# Quando os dados estão desbalanceados para as classes, a acurácia não é uma boa métrica\n",
    "print(\"Acurácia nos Dados de Teste: %.3f%%\" % (result * 100.0))"
   ]
  },
  {
   "cell_type": "code",
   "execution_count": 52,
   "metadata": {},
   "outputs": [
    {
     "name": "stdout",
     "output_type": "stream",
     "text": [
      "[[5479  515]\n",
      " [ 579   66]]\n"
     ]
    }
   ],
   "source": [
    "# Imprimindo a Matriz de Confusão\n",
    "# Veja como a matriz de confusão mostra a grande quantidade de Falsos positivos (FP) para a classe \"1\"\n",
    "print(matrix)"
   ]
  },
  {
   "cell_type": "code",
   "execution_count": 53,
   "metadata": {},
   "outputs": [
    {
     "name": "stdout",
     "output_type": "stream",
     "text": [
      "              precision    recall  f1-score   support\n",
      "\n",
      "         0.0       0.90      0.91      0.91      5994\n",
      "         1.0       0.11      0.10      0.11       645\n",
      "\n",
      "    accuracy                           0.84      6639\n",
      "   macro avg       0.51      0.51      0.51      6639\n",
      "weighted avg       0.83      0.84      0.83      6639\n",
      "\n"
     ]
    }
   ],
   "source": [
    "# Imprimindo o relatório\n",
    "# Observe o recall para ambas as classes \"0\" (100%) e \"1\" (1%), são muito diferentes\n",
    "# O algoritmo não aprendeu quase nada da classe '1'\n",
    "print(report)"
   ]
  },
  {
   "cell_type": "markdown",
   "metadata": {},
   "source": [
    "# Dados Desbalanceados\n",
    "\n",
    "## Métodos para lidar com dados desbalanceados\n",
    "Fonte: https://minerandodados.com.br/lidando-com-classes-desbalanceadas-machine-learning/.\n",
    "\n",
    "Undersampling – Consiste em reduzir de forma aleatória os exemplos da classe majoritária.\n",
    "\n",
    "<font color='red'>NearMiss</font> – É um algoritmo de undersampling que consiste em reduzir de forma aleatória os exemplos da classe majoritária, porém ele seleciona os exemplos com base na distância.\n",
    "\n",
    "Quando instâncias das duas classes estão muito próximas umas das outras, removemos as instâncias da classe majoritária para termos uma maior separabilidade entre as classes.\n",
    "\n",
    "Oversampling – Consiste em replicar dados aleatórios da classe minoritária. Como estamos duplicando os dados já existentes este método está propício a dar overfitting.\n",
    "\n",
    "<font color='red'>Smote (<i>Synthetic Minority Over-sampling Technique</i>)</font> – Consiste em gerar dados sintéticos (não duplicados) da classe minoritária a partir de vizinhos. Ele calcula quais são os vizinhos mais próximos e as características desses vizinhos para criar novos dados. Se o número de dados gerados for muito grande podemos ter um overfiting.\n",
    "\n",
    "Engenharia de features – Consiste em gerar novas features dando maior robustez ao modelo e diminuindo o viés da classe majoritária."
   ]
  },
  {
   "cell_type": "code",
   "execution_count": 54,
   "metadata": {},
   "outputs": [
    {
     "name": "stdout",
     "output_type": "stream",
     "text": [
      "Requirement already up-to-date: imbalanced-learn in c:\\users\\lucia\\anaconda3\\lib\\site-packages (0.8.0)\n",
      "Requirement already satisfied, skipping upgrade: scipy>=0.19.1 in c:\\users\\lucia\\anaconda3\\lib\\site-packages (from imbalanced-learn) (1.2.1)\n",
      "Requirement already satisfied, skipping upgrade: scikit-learn>=0.24 in c:\\users\\lucia\\anaconda3\\lib\\site-packages (from imbalanced-learn) (0.24.1)\n",
      "Requirement already satisfied, skipping upgrade: joblib>=0.11 in c:\\users\\lucia\\anaconda3\\lib\\site-packages (from imbalanced-learn) (0.13.2)\n",
      "Requirement already satisfied, skipping upgrade: numpy>=1.13.3 in c:\\users\\lucia\\anaconda3\\lib\\site-packages (from imbalanced-learn) (1.16.4)\n",
      "Requirement already satisfied, skipping upgrade: threadpoolctl>=2.0.0 in c:\\users\\lucia\\anaconda3\\lib\\site-packages (from scikit-learn>=0.24->imbalanced-learn) (2.1.0)\n"
     ]
    }
   ],
   "source": [
    "# Instalando o módulo !pip install -U imbalanced-learn para fazer o balanceamento\n",
    "!pip install -U imbalanced-learn"
   ]
  },
  {
   "cell_type": "markdown",
   "metadata": {},
   "source": [
    "### NearMiss\n",
    "\n",
    "Método de Undersampling (subamostragem).\n",
    "\n",
    "Iguala as quantidade de amostras entre as classes."
   ]
  },
  {
   "cell_type": "code",
   "execution_count": 55,
   "metadata": {},
   "outputs": [
    {
     "data": {
      "text/plain": [
       "(20117, 11)"
      ]
     },
     "execution_count": 55,
     "metadata": {},
     "output_type": "execute_result"
    }
   ],
   "source": [
    "# Mostra o shape do dataset\n",
    "diabetes.shape"
   ]
  },
  {
   "cell_type": "code",
   "execution_count": 56,
   "metadata": {},
   "outputs": [],
   "source": [
    "# Importando os módulos necessários\n",
    "import pandas as pd\n",
    "from sklearn.model_selection import train_test_split\n",
    "from sklearn.metrics import confusion_matrix\n",
    "from sklearn.metrics import classification_report\n",
    "from imblearn.under_sampling import NearMiss\n",
    "from sklearn.linear_model import LogisticRegression"
   ]
  },
  {
   "cell_type": "code",
   "execution_count": 57,
   "metadata": {},
   "outputs": [],
   "source": [
    "# Leitura do arquivo CSV com separador \",\" e codificação UTF-8\n",
    "diabetes =  pd.read_csv(\"arquivo.csv\", sep = ',', encoding = 'UTF-8')"
   ]
  },
  {
   "cell_type": "code",
   "execution_count": 58,
   "metadata": {},
   "outputs": [
    {
     "data": {
      "text/plain": [
       "0    18175\n",
       "1     1942\n",
       "Name: CLASSE, dtype: int64"
      ]
     },
     "execution_count": 58,
     "metadata": {},
     "output_type": "execute_result"
    }
   ],
   "source": [
    "# Apresenta a quantidade de objetos de cada classe\n",
    "diabetes.CLASSE.value_counts()"
   ]
  },
  {
   "cell_type": "code",
   "execution_count": 59,
   "metadata": {},
   "outputs": [],
   "source": [
    "# Carregando os dados\n",
    "array = diabetes.values"
   ]
  },
  {
   "cell_type": "code",
   "execution_count": 60,
   "metadata": {},
   "outputs": [],
   "source": [
    "# Separando o array em componentes de entrada (atributos preditivos) e output (atributo alvo)\n",
    "X = array[:,0:19] # todos os objetos do atributo 0 ao atributo 19 (exclusivo)\n",
    "Y = array[:,19]"
   ]
  },
  {
   "cell_type": "code",
   "execution_count": 61,
   "metadata": {},
   "outputs": [
    {
     "data": {
      "text/plain": [
       "array([[6.00000e+01, 8.30000e+00, 2.11276e+04, ..., 1.20200e+02,\n",
       "        1.66700e+02, 1.24100e+02],\n",
       "       [5.60000e+01, 3.10000e+00, 5.92280e+03, ..., 4.88000e+01,\n",
       "        1.57500e+02, 7.14000e+01],\n",
       "       [3.60000e+01, 1.18000e+01, 2.20116e+04, ..., 5.79000e+01,\n",
       "        1.79100e+02, 7.60000e+01],\n",
       "       ...,\n",
       "       [7.20000e+01, 7.20000e+00, 3.71280e+03, ..., 7.46000e+01,\n",
       "        1.63500e+02, 1.10500e+02],\n",
       "       [5.10000e+01, 5.60000e+00, 1.18456e+04, ..., 6.00000e+01,\n",
       "        1.52100e+02, 9.05000e+01],\n",
       "       [6.40000e+01, 4.41000e+01, 3.69512e+04, ..., 1.75200e+02,\n",
       "        1.88300e+02, 1.57600e+02]])"
      ]
     },
     "execution_count": 61,
     "metadata": {},
     "output_type": "execute_result"
    }
   ],
   "source": [
    "# Mostra os dados de X\n",
    "X"
   ]
  },
  {
   "cell_type": "code",
   "execution_count": 62,
   "metadata": {
    "scrolled": true
   },
   "outputs": [
    {
     "data": {
      "text/plain": [
       "array([0., 0., 0., ..., 1., 1., 1.])"
      ]
     },
     "execution_count": 62,
     "metadata": {},
     "output_type": "execute_result"
    }
   ],
   "source": [
    "# Mostra os dados de Y\n",
    "Y"
   ]
  },
  {
   "cell_type": "code",
   "execution_count": 63,
   "metadata": {},
   "outputs": [],
   "source": [
    "# Instância o NearMiss\n",
    "nr = NearMiss()"
   ]
  },
  {
   "cell_type": "code",
   "execution_count": 66,
   "metadata": {},
   "outputs": [],
   "source": [
    "# Aplica o NearMiss\n",
    "X,Y = nr.fit_resample(X,Y)"
   ]
  },
  {
   "cell_type": "code",
   "execution_count": 67,
   "metadata": {},
   "outputs": [],
   "source": [
    "# Monta o dataset contendo a amostra\n",
    "# Retornando os valores para o array concatenando todos em um único arrayAtual\n",
    "import numpy as np\n",
    "arrayAtual = np.column_stack((X, Y))"
   ]
  },
  {
   "cell_type": "code",
   "execution_count": 68,
   "metadata": {},
   "outputs": [],
   "source": [
    "# Cria um dataframe a partir do array finalizado\n",
    "dataframeCriado = pd.DataFrame(arrayAtual)"
   ]
  },
  {
   "cell_type": "code",
   "execution_count": 69,
   "metadata": {},
   "outputs": [
    {
     "data": {
      "text/html": [
       "<div>\n",
       "<style scoped>\n",
       "    .dataframe tbody tr th:only-of-type {\n",
       "        vertical-align: middle;\n",
       "    }\n",
       "\n",
       "    .dataframe tbody tr th {\n",
       "        vertical-align: top;\n",
       "    }\n",
       "\n",
       "    .dataframe thead th {\n",
       "        text-align: right;\n",
       "    }\n",
       "</style>\n",
       "<table border=\"1\" class=\"dataframe\">\n",
       "  <thead>\n",
       "    <tr style=\"text-align: right;\">\n",
       "      <th></th>\n",
       "      <th>0</th>\n",
       "      <th>1</th>\n",
       "      <th>2</th>\n",
       "      <th>3</th>\n",
       "      <th>4</th>\n",
       "      <th>5</th>\n",
       "      <th>6</th>\n",
       "      <th>7</th>\n",
       "      <th>8</th>\n",
       "      <th>9</th>\n",
       "      <th>10</th>\n",
       "    </tr>\n",
       "  </thead>\n",
       "  <tbody>\n",
       "    <tr>\n",
       "      <th>0</th>\n",
       "      <td>76.0</td>\n",
       "      <td>-1.0</td>\n",
       "      <td>-1.0</td>\n",
       "      <td>-1.0</td>\n",
       "      <td>-1.0</td>\n",
       "      <td>-1.0</td>\n",
       "      <td>-1.0</td>\n",
       "      <td>-1.0</td>\n",
       "      <td>-1.0</td>\n",
       "      <td>-1.0</td>\n",
       "      <td>0.0</td>\n",
       "    </tr>\n",
       "    <tr>\n",
       "      <th>1</th>\n",
       "      <td>80.0</td>\n",
       "      <td>-1.0</td>\n",
       "      <td>-1.0</td>\n",
       "      <td>-1.0</td>\n",
       "      <td>-1.0</td>\n",
       "      <td>-1.0</td>\n",
       "      <td>-1.0</td>\n",
       "      <td>-1.0</td>\n",
       "      <td>-1.0</td>\n",
       "      <td>-1.0</td>\n",
       "      <td>0.0</td>\n",
       "    </tr>\n",
       "    <tr>\n",
       "      <th>2</th>\n",
       "      <td>80.0</td>\n",
       "      <td>-1.0</td>\n",
       "      <td>-1.0</td>\n",
       "      <td>-1.0</td>\n",
       "      <td>-1.0</td>\n",
       "      <td>-1.0</td>\n",
       "      <td>-1.0</td>\n",
       "      <td>-1.0</td>\n",
       "      <td>-1.0</td>\n",
       "      <td>-1.0</td>\n",
       "      <td>0.0</td>\n",
       "    </tr>\n",
       "    <tr>\n",
       "      <th>3</th>\n",
       "      <td>64.0</td>\n",
       "      <td>-1.0</td>\n",
       "      <td>-1.0</td>\n",
       "      <td>-1.0</td>\n",
       "      <td>-1.0</td>\n",
       "      <td>-1.0</td>\n",
       "      <td>-1.0</td>\n",
       "      <td>-1.0</td>\n",
       "      <td>-1.0</td>\n",
       "      <td>-1.0</td>\n",
       "      <td>0.0</td>\n",
       "    </tr>\n",
       "    <tr>\n",
       "      <th>4</th>\n",
       "      <td>57.0</td>\n",
       "      <td>-1.0</td>\n",
       "      <td>-1.0</td>\n",
       "      <td>-1.0</td>\n",
       "      <td>-1.0</td>\n",
       "      <td>-1.0</td>\n",
       "      <td>-1.0</td>\n",
       "      <td>-1.0</td>\n",
       "      <td>-1.0</td>\n",
       "      <td>-1.0</td>\n",
       "      <td>0.0</td>\n",
       "    </tr>\n",
       "  </tbody>\n",
       "</table>\n",
       "</div>"
      ],
      "text/plain": [
       "     0    1    2    3    4    5    6    7    8    9    10\n",
       "0  76.0 -1.0 -1.0 -1.0 -1.0 -1.0 -1.0 -1.0 -1.0 -1.0  0.0\n",
       "1  80.0 -1.0 -1.0 -1.0 -1.0 -1.0 -1.0 -1.0 -1.0 -1.0  0.0\n",
       "2  80.0 -1.0 -1.0 -1.0 -1.0 -1.0 -1.0 -1.0 -1.0 -1.0  0.0\n",
       "3  64.0 -1.0 -1.0 -1.0 -1.0 -1.0 -1.0 -1.0 -1.0 -1.0  0.0\n",
       "4  57.0 -1.0 -1.0 -1.0 -1.0 -1.0 -1.0 -1.0 -1.0 -1.0  0.0"
      ]
     },
     "execution_count": 69,
     "metadata": {},
     "output_type": "execute_result"
    }
   ],
   "source": [
    "# Mostra os 5 primeiros registros\n",
    "dataframeCriado.head()"
   ]
  },
  {
   "cell_type": "code",
   "execution_count": 70,
   "metadata": {},
   "outputs": [],
   "source": [
    "# Modifica os nomes das colunas para o nome original\n",
    "dataframeCriado.columns = diabetes.columns"
   ]
  },
  {
   "cell_type": "code",
   "execution_count": 71,
   "metadata": {},
   "outputs": [
    {
     "data": {
      "text/plain": [
       "1.0    1942\n",
       "0.0    1942\n",
       "Name: CLASSE, dtype: int64"
      ]
     },
     "execution_count": 71,
     "metadata": {},
     "output_type": "execute_result"
    }
   ],
   "source": [
    "# Mostra o total de objetos de cada classe\n",
    "dataframeCriado.CLASSE.value_counts()"
   ]
  },
  {
   "cell_type": "code",
   "execution_count": 72,
   "metadata": {},
   "outputs": [
    {
     "data": {
      "image/png": "[encoded data removed]",
      "text/plain": [
       "<Figure size 432x288 with 1 Axes>"
      ]
     },
     "metadata": {
      "needs_background": "light"
     },
     "output_type": "display_data"
    }
   ],
   "source": [
    "# Checa a quantidade de amostras entre as classes\n",
    "import seaborn as sns\n",
    "ax = sns.countplot(x=Y)"
   ]
  },
  {
   "cell_type": "code",
   "execution_count": 73,
   "metadata": {},
   "outputs": [],
   "source": [
    "# Definindo o tamanho das amostras\n",
    "teste_size = 0.33\n",
    "\n",
    "# Garante que os resultados podem ser reproduzidos\n",
    "# Isso é importante para comparar a acurácia com outros algoritmos de Machine Learning.\n",
    "seed = 7"
   ]
  },
  {
   "cell_type": "code",
   "execution_count": 74,
   "metadata": {},
   "outputs": [],
   "source": [
    "# Criando os conjuntos de dados de treino e de teste\n",
    "X_treino, X_teste, Y_treino, Y_teste = train_test_split(X, Y, test_size = teste_size, random_state = seed)"
   ]
  },
  {
   "cell_type": "code",
   "execution_count": 75,
   "metadata": {},
   "outputs": [],
   "source": [
    "# Criando o objeto que vai obter o modelo \n",
    "modelo = LogisticRegression()"
   ]
  },
  {
   "cell_type": "code",
   "execution_count": 76,
   "metadata": {},
   "outputs": [
    {
     "data": {
      "text/plain": [
       "LogisticRegression()"
      ]
     },
     "execution_count": 76,
     "metadata": {},
     "output_type": "execute_result"
    }
   ],
   "source": [
    "# Treinamento do modelo\n",
    "modelo.fit(X_treino, Y_treino)"
   ]
  },
  {
   "cell_type": "code",
   "execution_count": 77,
   "metadata": {},
   "outputs": [],
   "source": [
    "# Fazendo as previsões e construindo a Matriz de Confusão\n",
    "previsoes = modelo.predict(X_teste)\n",
    "matrix = confusion_matrix(Y_teste, previsoes)"
   ]
  },
  {
   "cell_type": "code",
   "execution_count": 78,
   "metadata": {},
   "outputs": [],
   "source": [
    "# construindo o relatório de resultados\n",
    "report = classification_report(Y_teste, previsoes)"
   ]
  },
  {
   "cell_type": "code",
   "execution_count": 79,
   "metadata": {},
   "outputs": [],
   "source": [
    "# Score do modelo nos dados de teste  (Acurácia)\n",
    "result = modelo.score(X_teste, Y_teste)"
   ]
  },
  {
   "cell_type": "code",
   "execution_count": 80,
   "metadata": {},
   "outputs": [
    {
     "name": "stdout",
     "output_type": "stream",
     "text": [
      "Acurácia nos Dados de Teste: 74.181%\n"
     ]
    }
   ],
   "source": [
    "# Imprime os resultados\n",
    "# Quando os dados estão desbalanceados para as classes, a acurácia não é uma boa métrica\n",
    "print(\"Acurácia nos Dados de Teste: %.3f%%\" % (result * 100.0))"
   ]
  },
  {
   "cell_type": "code",
   "execution_count": 81,
   "metadata": {},
   "outputs": [
    {
     "name": "stdout",
     "output_type": "stream",
     "text": [
      "[[526 127]\n",
      " [204 425]]\n"
     ]
    }
   ],
   "source": [
    "# Imprimindo a Matriz de Confusão\n",
    "print(matrix)"
   ]
  },
  {
   "cell_type": "code",
   "execution_count": 82,
   "metadata": {},
   "outputs": [
    {
     "name": "stdout",
     "output_type": "stream",
     "text": [
      "              precision    recall  f1-score   support\n",
      "\n",
      "         0.0       0.72      0.81      0.76       653\n",
      "         1.0       0.77      0.68      0.72       629\n",
      "\n",
      "    accuracy                           0.74      1282\n",
      "   macro avg       0.75      0.74      0.74      1282\n",
      "weighted avg       0.74      0.74      0.74      1282\n",
      "\n"
     ]
    }
   ],
   "source": [
    "# Imprimindo o relatório\n",
    "# Observe o recall para ambas as classes \"0\" (100%) e \"1\" (1%), são muito diferentes\n",
    "# O algoritmo não aprendeu quase nada da classe '1'\n",
    "print(report)"
   ]
  },
  {
   "cell_type": "code",
   "execution_count": 83,
   "metadata": {},
   "outputs": [],
   "source": [
    "# Armazena os dados balanceados por NearMiss\n",
    "dataframeCriado.to_csv(\"arquivo_nearmiss.csv\", index=False)"
   ]
  },
  {
   "cell_type": "markdown",
   "metadata": {},
   "source": [
    "### Smote (<i>Synthetic Minority Over-sampling Technique<i>)\n",
    "    \n",
    "Gera dados sintéticos da classe minoritária."
   ]
  },
  {
   "cell_type": "code",
   "execution_count": 79,
   "metadata": {},
   "outputs": [],
   "source": [
    "# Importando os módulos necessários\n",
    "from sklearn.model_selection import train_test_split\n",
    "from sklearn.metrics import confusion_matrix\n",
    "from sklearn.metrics import classification_report\n",
    "from imblearn.over_sampling import SMOTE\n",
    "# Algoritmo Regressão Logística (Classificação do Aprendizado de Máquina Supervisionado)\n",
    "# utilizado para ilustração\n",
    "from sklearn.linear_model import LogisticRegression"
   ]
  },
  {
   "cell_type": "code",
   "execution_count": 80,
   "metadata": {},
   "outputs": [],
   "source": [
    "# Leitura do arquivo CSV com separador \",\" e codificação UTF-8\n",
    "diabetes = pd.read_csv('resultado.csv', sep = ';', encoding = 'UTF-8')"
   ]
  },
  {
   "cell_type": "code",
   "execution_count": 81,
   "metadata": {},
   "outputs": [
    {
     "data": {
      "text/plain": [
       "0    19135\n",
       "1     1370\n",
       "Name: CLASSE, dtype: int64"
      ]
     },
     "execution_count": 81,
     "metadata": {},
     "output_type": "execute_result"
    }
   ],
   "source": [
    "# Apresenta a quantidade de objetos de cada classe\n",
    "diabetes.CLASSE.value_counts()"
   ]
  },
  {
   "cell_type": "code",
   "execution_count": 82,
   "metadata": {},
   "outputs": [],
   "source": [
    "# Carregando os dados para um array\n",
    "array = diabetes.values"
   ]
  },
  {
   "cell_type": "code",
   "execution_count": 84,
   "metadata": {},
   "outputs": [],
   "source": [
    "# Separando o array em componentes de entrada (atributos preditivos) e output (atributo alvo)\n",
    "X = array[:,0:19] # todos os objetos do atributo 0 ao atributo 19 (exclusivo)\n",
    "Y = array[:,19]"
   ]
  },
  {
   "cell_type": "code",
   "execution_count": 85,
   "metadata": {},
   "outputs": [
    {
     "data": {
      "text/plain": [
       "array([[ 1.00000e+05,  2.00000e+00,  2.10000e+01, ...,  7.20000e+01,\n",
       "        -1.00000e+00, -1.00000e+00],\n",
       "       [ 1.00001e+05,  1.00000e+00,  3.90000e+01, ...,  9.00000e+01,\n",
       "         2.24000e+02,  2.52900e+00],\n",
       "       [ 1.00002e+05,  2.00000e+00,  9.00000e+00, ..., -1.00000e+00,\n",
       "        -1.00000e+00, -1.00000e+00],\n",
       "       ...,\n",
       "       [ 9.99970e+04,  2.00000e+00,  6.40000e+01, ...,  2.00000e+01,\n",
       "        -1.00000e+00, -1.00000e+00],\n",
       "       [ 9.99980e+04,  2.00000e+00,  1.00000e+01, ...,  6.20000e+01,\n",
       "        -1.00000e+00, -1.00000e+00],\n",
       "       [ 9.99990e+04,  1.00000e+00,  2.50000e+01, ...,  7.80000e+01,\n",
       "        -1.00000e+00, -1.00000e+00]])"
      ]
     },
     "execution_count": 85,
     "metadata": {},
     "output_type": "execute_result"
    }
   ],
   "source": [
    "# Mostra os dados de X\n",
    "X"
   ]
  },
  {
   "cell_type": "code",
   "execution_count": 86,
   "metadata": {},
   "outputs": [
    {
     "data": {
      "text/plain": [
       "array([0., 0., 0., ..., 0., 0., 0.])"
      ]
     },
     "execution_count": 86,
     "metadata": {},
     "output_type": "execute_result"
    }
   ],
   "source": [
    "# Mostra os dados de Y\n",
    "Y"
   ]
  },
  {
   "cell_type": "code",
   "execution_count": 87,
   "metadata": {},
   "outputs": [
    {
     "ename": "TypeError",
     "evalue": "Cannot cast array data from dtype('float64') to dtype('int64') according to the rule 'safe'",
     "output_type": "error",
     "traceback": [
      "\u001b[1;31m---------------------------------------------------------------------------\u001b[0m",
      "\u001b[1;31mTypeError\u001b[0m                                 Traceback (most recent call last)",
      "\u001b[1;32m<ipython-input-87-dd5d64830d21>\u001b[0m in \u001b[0;36m<module>\u001b[1;34m\u001b[0m\n\u001b[0;32m      1\u001b[0m \u001b[1;31m# Visualizando a quantidade de dados por classe\u001b[0m\u001b[1;33m\u001b[0m\u001b[1;33m\u001b[0m\u001b[1;33m\u001b[0m\u001b[0m\n\u001b[1;32m----> 2\u001b[1;33m \u001b[0mnp\u001b[0m\u001b[1;33m.\u001b[0m\u001b[0mbincount\u001b[0m\u001b[1;33m(\u001b[0m\u001b[0mY\u001b[0m\u001b[1;33m)\u001b[0m\u001b[1;33m\u001b[0m\u001b[1;33m\u001b[0m\u001b[0m\n\u001b[0m",
      "\u001b[1;31mTypeError\u001b[0m: Cannot cast array data from dtype('float64') to dtype('int64') according to the rule 'safe'"
     ]
    }
   ],
   "source": [
    "# Visualizando a quantidade de dados por classe\n",
    "np.bincount(Y)"
   ]
  },
  {
   "cell_type": "code",
   "execution_count": 88,
   "metadata": {},
   "outputs": [],
   "source": [
    "# Instância o SMOTE\n",
    "# Essa técnica possui o parâmetro sampling_strategy que nos permiti definir \n",
    "# qual a porcentagem de dados sintéticos que queremos.\n",
    "# Se definirmos 0.5 por exemplo, ele vai gerar dados sintéticos até 50% da classe majoritária. \n",
    "# Mas a título de exemplo será usada o método padrão.\n",
    "smt = SMOTE()"
   ]
  },
  {
   "cell_type": "code",
   "execution_count": 89,
   "metadata": {},
   "outputs": [],
   "source": [
    "# Aplica o SMOTE nos dados\n",
    "X, Y = smt.fit_sample(X, Y)"
   ]
  },
  {
   "cell_type": "code",
   "execution_count": 90,
   "metadata": {},
   "outputs": [
    {
     "ename": "TypeError",
     "evalue": "Cannot cast array data from dtype('float64') to dtype('int64') according to the rule 'safe'",
     "output_type": "error",
     "traceback": [
      "\u001b[1;31m---------------------------------------------------------------------------\u001b[0m",
      "\u001b[1;31mTypeError\u001b[0m                                 Traceback (most recent call last)",
      "\u001b[1;32m<ipython-input-90-25f773b433f6>\u001b[0m in \u001b[0;36m<module>\u001b[1;34m\u001b[0m\n\u001b[0;32m      1\u001b[0m \u001b[1;31m# Visualizando a distribuição das amostras\u001b[0m\u001b[1;33m\u001b[0m\u001b[1;33m\u001b[0m\u001b[1;33m\u001b[0m\u001b[0m\n\u001b[1;32m----> 2\u001b[1;33m \u001b[0mnp\u001b[0m\u001b[1;33m.\u001b[0m\u001b[0mbincount\u001b[0m\u001b[1;33m(\u001b[0m\u001b[0mY\u001b[0m\u001b[1;33m)\u001b[0m\u001b[1;33m\u001b[0m\u001b[1;33m\u001b[0m\u001b[0m\n\u001b[0m",
      "\u001b[1;31mTypeError\u001b[0m: Cannot cast array data from dtype('float64') to dtype('int64') according to the rule 'safe'"
     ]
    }
   ],
   "source": [
    "# Visualizando a distribuição das amostras\n",
    "np.bincount(Y)"
   ]
  },
  {
   "cell_type": "code",
   "execution_count": 91,
   "metadata": {},
   "outputs": [
    {
     "data": {
      "text/html": [
       "<div>\n",
       "<style scoped>\n",
       "    .dataframe tbody tr th:only-of-type {\n",
       "        vertical-align: middle;\n",
       "    }\n",
       "\n",
       "    .dataframe tbody tr th {\n",
       "        vertical-align: top;\n",
       "    }\n",
       "\n",
       "    .dataframe thead th {\n",
       "        text-align: right;\n",
       "    }\n",
       "</style>\n",
       "<table border=\"1\" class=\"dataframe\">\n",
       "  <thead>\n",
       "    <tr style=\"text-align: right;\">\n",
       "      <th></th>\n",
       "      <th>SEQN1</th>\n",
       "      <th>RIAGENDR</th>\n",
       "      <th>RIDAGEYR</th>\n",
       "      <th>URXUMA</th>\n",
       "      <th>URXUMS</th>\n",
       "      <th>URXUCR</th>\n",
       "      <th>URXCRS</th>\n",
       "      <th>URDACT</th>\n",
       "      <th>LBDHDD</th>\n",
       "      <th>LBDHDDSI</th>\n",
       "      <th>...</th>\n",
       "      <th>LBXSGL</th>\n",
       "      <th>LBDSGLSI</th>\n",
       "      <th>LBXSTR</th>\n",
       "      <th>LBDSTRSI</th>\n",
       "      <th>BPACSZ</th>\n",
       "      <th>BPXSY1</th>\n",
       "      <th>BPXDI1</th>\n",
       "      <th>LBXTR</th>\n",
       "      <th>LBDTRSI</th>\n",
       "      <th>CLASSE</th>\n",
       "    </tr>\n",
       "  </thead>\n",
       "  <tbody>\n",
       "    <tr>\n",
       "      <th>0</th>\n",
       "      <td>100000.0</td>\n",
       "      <td>2.0</td>\n",
       "      <td>21.0</td>\n",
       "      <td>2.7</td>\n",
       "      <td>2.7</td>\n",
       "      <td>46.0</td>\n",
       "      <td>4066.4</td>\n",
       "      <td>5.87</td>\n",
       "      <td>42.0</td>\n",
       "      <td>1.09</td>\n",
       "      <td>...</td>\n",
       "      <td>127.0</td>\n",
       "      <td>3.284</td>\n",
       "      <td>58.0</td>\n",
       "      <td>0.655</td>\n",
       "      <td>4.0</td>\n",
       "      <td>122.0</td>\n",
       "      <td>72.0</td>\n",
       "      <td>-1.0</td>\n",
       "      <td>-1.000</td>\n",
       "      <td>0.0</td>\n",
       "    </tr>\n",
       "    <tr>\n",
       "      <th>1</th>\n",
       "      <td>100001.0</td>\n",
       "      <td>1.0</td>\n",
       "      <td>39.0</td>\n",
       "      <td>8.4</td>\n",
       "      <td>8.4</td>\n",
       "      <td>84.0</td>\n",
       "      <td>7425.6</td>\n",
       "      <td>10.00</td>\n",
       "      <td>48.0</td>\n",
       "      <td>1.24</td>\n",
       "      <td>...</td>\n",
       "      <td>190.0</td>\n",
       "      <td>4.913</td>\n",
       "      <td>235.0</td>\n",
       "      <td>2.653</td>\n",
       "      <td>3.0</td>\n",
       "      <td>126.0</td>\n",
       "      <td>90.0</td>\n",
       "      <td>224.0</td>\n",
       "      <td>2.529</td>\n",
       "      <td>0.0</td>\n",
       "    </tr>\n",
       "    <tr>\n",
       "      <th>2</th>\n",
       "      <td>100002.0</td>\n",
       "      <td>2.0</td>\n",
       "      <td>9.0</td>\n",
       "      <td>23.1</td>\n",
       "      <td>23.1</td>\n",
       "      <td>186.0</td>\n",
       "      <td>16442.4</td>\n",
       "      <td>12.42</td>\n",
       "      <td>42.0</td>\n",
       "      <td>1.09</td>\n",
       "      <td>...</td>\n",
       "      <td>-1.0</td>\n",
       "      <td>-1.000</td>\n",
       "      <td>-1.0</td>\n",
       "      <td>-1.000</td>\n",
       "      <td>-1.0</td>\n",
       "      <td>-1.0</td>\n",
       "      <td>-1.0</td>\n",
       "      <td>-1.0</td>\n",
       "      <td>-1.000</td>\n",
       "      <td>0.0</td>\n",
       "    </tr>\n",
       "    <tr>\n",
       "      <th>3</th>\n",
       "      <td>100003.0</td>\n",
       "      <td>2.0</td>\n",
       "      <td>19.0</td>\n",
       "      <td>8.4</td>\n",
       "      <td>8.4</td>\n",
       "      <td>319.0</td>\n",
       "      <td>28199.6</td>\n",
       "      <td>2.63</td>\n",
       "      <td>-1.0</td>\n",
       "      <td>-1.00</td>\n",
       "      <td>...</td>\n",
       "      <td>-1.0</td>\n",
       "      <td>-1.000</td>\n",
       "      <td>-1.0</td>\n",
       "      <td>-1.000</td>\n",
       "      <td>3.0</td>\n",
       "      <td>118.0</td>\n",
       "      <td>62.0</td>\n",
       "      <td>-1.0</td>\n",
       "      <td>-1.000</td>\n",
       "      <td>0.0</td>\n",
       "    </tr>\n",
       "    <tr>\n",
       "      <th>4</th>\n",
       "      <td>100004.0</td>\n",
       "      <td>2.0</td>\n",
       "      <td>65.0</td>\n",
       "      <td>3.8</td>\n",
       "      <td>3.8</td>\n",
       "      <td>61.0</td>\n",
       "      <td>5392.4</td>\n",
       "      <td>6.23</td>\n",
       "      <td>57.0</td>\n",
       "      <td>1.47</td>\n",
       "      <td>...</td>\n",
       "      <td>220.0</td>\n",
       "      <td>5.689</td>\n",
       "      <td>116.0</td>\n",
       "      <td>1.310</td>\n",
       "      <td>3.0</td>\n",
       "      <td>164.0</td>\n",
       "      <td>52.0</td>\n",
       "      <td>-1.0</td>\n",
       "      <td>-1.000</td>\n",
       "      <td>0.0</td>\n",
       "    </tr>\n",
       "  </tbody>\n",
       "</table>\n",
       "<p>5 rows × 40 columns</p>\n",
       "</div>"
      ],
      "text/plain": [
       "      SEQN1  RIAGENDR  RIDAGEYR  URXUMA  URXUMS  URXUCR   URXCRS  URDACT  \\\n",
       "0  100000.0       2.0      21.0     2.7     2.7    46.0   4066.4    5.87   \n",
       "1  100001.0       1.0      39.0     8.4     8.4    84.0   7425.6   10.00   \n",
       "2  100002.0       2.0       9.0    23.1    23.1   186.0  16442.4   12.42   \n",
       "3  100003.0       2.0      19.0     8.4     8.4   319.0  28199.6    2.63   \n",
       "4  100004.0       2.0      65.0     3.8     3.8    61.0   5392.4    6.23   \n",
       "\n",
       "   LBDHDD  LBDHDDSI  ...  LBXSGL  LBDSGLSI  LBXSTR  LBDSTRSI  BPACSZ  BPXSY1  \\\n",
       "0    42.0      1.09  ...   127.0     3.284    58.0     0.655     4.0   122.0   \n",
       "1    48.0      1.24  ...   190.0     4.913   235.0     2.653     3.0   126.0   \n",
       "2    42.0      1.09  ...    -1.0    -1.000    -1.0    -1.000    -1.0    -1.0   \n",
       "3    -1.0     -1.00  ...    -1.0    -1.000    -1.0    -1.000     3.0   118.0   \n",
       "4    57.0      1.47  ...   220.0     5.689   116.0     1.310     3.0   164.0   \n",
       "\n",
       "   BPXDI1  LBXTR  LBDTRSI  CLASSE  \n",
       "0    72.0   -1.0   -1.000     0.0  \n",
       "1    90.0  224.0    2.529     0.0  \n",
       "2    -1.0   -1.0   -1.000     0.0  \n",
       "3    62.0   -1.0   -1.000     0.0  \n",
       "4    52.0   -1.0   -1.000     0.0  \n",
       "\n",
       "[5 rows x 40 columns]"
      ]
     },
     "execution_count": 91,
     "metadata": {},
     "output_type": "execute_result"
    }
   ],
   "source": [
    "# Monta o dataset contendo a amostra\n",
    "# Retornando os valores para o array concatenando todos em um único arrayAtual\n",
    "arrayAtual = np.column_stack((X, Y))\n",
    "\n",
    "# Cria um dataframe a partir do array finalizado\n",
    "dataframeCriado = pd.DataFrame(arrayAtual)\n",
    "\n",
    "# Modifica os nomes das colunas para o nome original\n",
    "dataframeCriado.columns = diabetes.columns\n",
    "\n",
    "# Mostra os 5 primeiros registros\n",
    "dataframeCriado.head()"
   ]
  },
  {
   "cell_type": "code",
   "execution_count": 92,
   "metadata": {},
   "outputs": [
    {
     "data": {
      "text/plain": [
       "1.0    19135\n",
       "0.0    19135\n",
       "Name: CLASSE, dtype: int64"
      ]
     },
     "execution_count": 92,
     "metadata": {},
     "output_type": "execute_result"
    }
   ],
   "source": [
    "# Mostra o total de objetos de cada classe\n",
    "dataframeCriado.CLASSE.value_counts()"
   ]
  },
  {
   "cell_type": "code",
   "execution_count": 93,
   "metadata": {},
   "outputs": [
    {
     "data": {
      "image/png": "[encoded data removed]",
      "text/plain": [
       "<Figure size 432x288 with 1 Axes>"
      ]
     },
     "metadata": {
      "needs_background": "light"
     },
     "output_type": "display_data"
    }
   ],
   "source": [
    "# Checa a quantidade de amostras entre as classes\n",
    "ax = sns.countplot(x=Y)"
   ]
  },
  {
   "cell_type": "code",
   "execution_count": 94,
   "metadata": {},
   "outputs": [],
   "source": [
    "# Definindo o tamanho das amostras\n",
    "teste_size = 0.25\n",
    "\n",
    "# Garante que os resultados podem ser reproduzidos\n",
    "# Isso é importante para comparar a acurácia com outros algoritmos de Machine Learning.\n",
    "seed = 7"
   ]
  },
  {
   "cell_type": "code",
   "execution_count": 95,
   "metadata": {},
   "outputs": [],
   "source": [
    "# Criando os conjuntos de dados de treino e de teste\n",
    "X_treino, X_teste, Y_treino, Y_teste = train_test_split(X, Y, test_size = teste_size, random_state = seed)"
   ]
  },
  {
   "cell_type": "code",
   "execution_count": 96,
   "metadata": {},
   "outputs": [],
   "source": [
    "# Criando o objeto que vai obter o modelo \n",
    "modelo = LogisticRegression()"
   ]
  },
  {
   "cell_type": "code",
   "execution_count": 97,
   "metadata": {},
   "outputs": [
    {
     "data": {
      "text/plain": [
       "LogisticRegression()"
      ]
     },
     "execution_count": 97,
     "metadata": {},
     "output_type": "execute_result"
    }
   ],
   "source": [
    "# Treinamento do modelo\n",
    "modelo.fit(X_treino, Y_treino)"
   ]
  },
  {
   "cell_type": "code",
   "execution_count": 98,
   "metadata": {},
   "outputs": [],
   "source": [
    "# Fazendo as previsões e construindo a Matriz de Confusão\n",
    "previsoes = modelo.predict(X_teste)\n",
    "matrix = confusion_matrix(Y_teste, previsoes)"
   ]
  },
  {
   "cell_type": "code",
   "execution_count": 99,
   "metadata": {},
   "outputs": [],
   "source": [
    "# construindo o relatório de resultados\n",
    "report = classification_report(Y_teste, previsoes)"
   ]
  },
  {
   "cell_type": "code",
   "execution_count": 100,
   "metadata": {},
   "outputs": [],
   "source": [
    "# Score do modelo nos dados de teste  (Acurácia)\n",
    "result = modelo.score(X_teste, Y_teste)"
   ]
  },
  {
   "cell_type": "code",
   "execution_count": 101,
   "metadata": {},
   "outputs": [
    {
     "name": "stdout",
     "output_type": "stream",
     "text": [
      "Acurácia nos Dados de Teste: 81.668%\n"
     ]
    }
   ],
   "source": [
    "# Imprime os resultados\n",
    "# Quando os dados estão desbalanceados para as classes, a acurácia não é uma boa métrica\n",
    "print(\"Acurácia nos Dados de Teste: %.3f%%\" % (result * 100.0))"
   ]
  },
  {
   "cell_type": "code",
   "execution_count": 102,
   "metadata": {},
   "outputs": [
    {
     "name": "stdout",
     "output_type": "stream",
     "text": [
      "Predito   0.0   1.0   All\n",
      "Real                     \n",
      "0.0      3786   965  4751\n",
      "1.0       789  4028  4817\n",
      "All      4575  4993  9568\n"
     ]
    }
   ],
   "source": [
    "# Imprimindo a Matriz de Confusão\n",
    "print (pd.crosstab(Y_teste, previsoes, rownames=['Real'], colnames=['Predito'], margins=True))"
   ]
  },
  {
   "cell_type": "code",
   "execution_count": 103,
   "metadata": {},
   "outputs": [
    {
     "name": "stdout",
     "output_type": "stream",
     "text": [
      "              precision    recall  f1-score   support\n",
      "\n",
      "         0.0       0.83      0.80      0.81      4751\n",
      "         1.0       0.81      0.84      0.82      4817\n",
      "\n",
      "    accuracy                           0.82      9568\n",
      "   macro avg       0.82      0.82      0.82      9568\n",
      "weighted avg       0.82      0.82      0.82      9568\n",
      "\n"
     ]
    }
   ],
   "source": [
    "# Imprimindo o relatório\n",
    "print(report)"
   ]
  },
  {
   "cell_type": "code",
   "execution_count": 54,
   "metadata": {},
   "outputs": [],
   "source": [
    "# Armazena os dados balanceados por SMOTE\n",
    "dataframeCriado.to_csv(\"arquivo_smote.csv\", index=False)"
   ]
  },
  {
   "cell_type": "markdown",
   "metadata": {},
   "source": [
    "### <font size = '2'>prof. Dr. Ivan Carlos Alcântara de Oliveira</font> - <font color=\"blue\">https://orcid.org/0000-0002-6020-7535</font>"
   ]
  }
 ],
 "metadata": {
  "kernelspec": {
   "display_name": "Python 3",
   "language": "python",
   "name": "python3"
  },
  "language_info": {
   "codemirror_mode": {
    "name": "ipython",
    "version": 3
   },
   "file_extension": ".py",
   "mimetype": "text/x-python",
   "name": "python",
   "nbconvert_exporter": "python",
   "pygments_lexer": "ipython3",
   "version": "3.7.3"
  }
 },
 "nbformat": 4,
 "nbformat_minor": 2
}

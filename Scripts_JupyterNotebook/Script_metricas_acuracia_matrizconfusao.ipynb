{
 "cells": [
  {
   "cell_type": "markdown",
   "metadata": {},
   "source": [
    "# Métricas: Acurácia e Matriz de Confusão\n"
   ]
  },
  {
   "cell_type": "code",
   "execution_count": 128,
   "metadata": {},
   "outputs": [],
   "source": [
    "# Imports\n",
    "import pandas as pd\n",
    "import numpy as np\n",
    "import seaborn as sns\n",
    "import matplotlib.pyplot as plt\n",
    "# ignora os warnings \n",
    "import warnings\n",
    "warnings.filterwarnings(\"ignore\")\n",
    "# Por se tratar de um conjunto de gráficos menores, pode ser mais interessante gerar os gráficos em janela separada\n",
    "%matplotlib inline"
   ]
  },
  {
   "cell_type": "markdown",
   "metadata": {},
   "source": [
    "# Aprendizado Supervisionado: Algoritmos de Classificação\n",
    "\n",
    "Não há como saber qual algoritmo vai funcionar melhor na construção do modelo, antes de realizar os testes do algoritmo com os dados de testes do </i>dataset</i>. \n",
    "\n",
    "O ideal é testar alguns algoritmos e então escolher aquele que fornece melhor nível de precisão. \n",
    "\n",
    "Para isso, serão considerados os algoritmos de classificação:\n",
    "\n",
    "1) <i>K-Nearest Neighbors</i> (KNN)<br />\n",
    "Documentação: https://scikit-learn.org/stable/modules/generated/sklearn.neighbors.KNeighborsClassifier.html.\n",
    "\n",
    "2) Árvore de Decisão (CART - <i>Classification and Regression Trees</i>) <br />\n",
    "Documentação: https://scikit-learn.org/stable/modules/generated/sklearn.tree.DecisionTreeClassifier.html#sklearn.tree.DecisionTreeClassifier.\n",
    "\n",
    "3) Regressão Logística <br />\n",
    "Documentação: https://scikit-learn.org/stable/modules/generated/sklearn.linear_model.LogisticRegression.html.\n",
    "\n",
    "4) Naïve Bayes<br />\n",
    "Documentação: https://scikit-learn.org/stable/modules/generated/sklearn.naive_bayes.GaussianNB.html.\n",
    "\n",
    "5) Máquinas de Vetores de Suporte (SVMs - <i>Support Vector Machines</i>)<br />\n",
    "Documentação: https://scikit-learn.org/stable/modules/generated/sklearn.svm.SVC.html.\n",
    "\n",
    "6) Random Forest<br />\n",
    "Documentação: https://scikit-learn.org/stable/modules/generated/sklearn.ensemble.RandomForestClassifier.html.\n",
    "\n",
    "7) AdaBoost<br />\n",
    "Documentação: https://scikit-learn.org/stable/modules/generated/sklearn.ensemble.AdaBoostClassifier.html.\n",
    "\n",
    "Todos os sete algoritmos serão utilizados juntos com os mesmos dados de treino e teste.\n",
    "\n",
    "A métrica de comparação utilizada será acurácia."
   ]
  },
  {
   "cell_type": "markdown",
   "metadata": {},
   "source": [
    "### Dados de Treino e de Teste\n",
    "\n",
    "Documentação: https://scikit-learn.org/stable/modules/generated/sklearn.model_selection.train_test_split.html\n",
    "\n",
    "Este é o método mais utilizado para avaliar performance de um algoritmo de Machine Learning. \n",
    "\n",
    "Dividimos nossos dados originais em dados de treino e de teste. \n",
    "\n",
    "Treinamos o algoritmo nos dados de treino e fazemos as previsões nos dados de teste e avaliamos o resultado. \n",
    "\n",
    "A divisão dos dados vai depender do seu dataset, mas utiliza-se com frequência tamanhos entre 70/30 (treino/teste) e 65/35 (treino/teste).\n",
    "\n",
    "Este método é bem veloz e ideal para conjuntos de dados muito grandes. \n",
    "\n",
    "O ponto negativo é a possibilidade de alta variância."
   ]
  },
  {
   "cell_type": "markdown",
   "metadata": {},
   "source": [
    "## Avaliando a Performance\n",
    "\n",
    "\n",
    "As métricas que você escolhe para avaliar a performance do modelo vão influenciar a forma como a performance é medida e comparada com modelos criados com outros algoritmos.\n",
    "\n",
    "Vamos utilizar o mesmo algoritmo, mas com métricas diferentes e assim comparar os resultados. "
   ]
  },
  {
   "cell_type": "markdown",
   "metadata": {},
   "source": [
    "### Métricas para Algoritmos de Classificação\n",
    "\n",
    "Documentação: https://scikit-learn.org/stable/modules/model_evaluation.html."
   ]
  },
  {
   "cell_type": "code",
   "execution_count": 137,
   "metadata": {},
   "outputs": [],
   "source": [
    "# Import dos módulos\n",
    "from sklearn.model_selection import train_test_split\n",
    "from sklearn.metrics import confusion_matrix\n",
    "from sklearn.metrics import classification_report\n",
    "\n",
    "# Importando os módulos dos algoritmos\n",
    "from sklearn.neighbors import KNeighborsClassifier\n",
    "from sklearn.tree import DecisionTreeClassifier\n",
    "from sklearn.linear_model import LogisticRegression\n",
    "from sklearn.naive_bayes import GaussianNB\n",
    "from sklearn.svm import SVC\n",
    "from sklearn.ensemble import RandomForestClassifier\n",
    "from sklearn.ensemble import AdaBoostClassifier"
   ]
  },
  {
   "cell_type": "code",
   "execution_count": 138,
   "metadata": {},
   "outputs": [],
   "source": [
    "# Leitura do arquivo CSV com separador \",\" e codificação UTF-8\n",
    "# diabetes é o nome de uma variável que receberá o conteúdo\n",
    "diabetes = pd.read_csv('arquivo.csv', sep = ';', encoding = 'UTF-8')"
   ]
  },
  {
   "cell_type": "code",
   "execution_count": 139,
   "metadata": {},
   "outputs": [],
   "source": [
    "# Obtém os dados \n",
    "array = diabetes.values"
   ]
  },
  {
   "cell_type": "code",
   "execution_count": 140,
   "metadata": {},
   "outputs": [],
   "source": [
    "# Separando o array em componentes de entrada (atributos preditivos) e output (atributo alvo)\n",
    "X = array[:,0:19] # Atributos Preditores selecionados de 0 a 19 (exclusivo)\n",
    "Y = array[:,19] # Atributo alvo: portador de diabetes (1 - sim, 0 - não)"
   ]
  },
  {
   "cell_type": "code",
   "execution_count": 141,
   "metadata": {},
   "outputs": [],
   "source": [
    "# Definindo o tamanho das amostras\n",
    "teste_size = 0.33\n",
    "\n",
    "# Garante que os resultados podem ser reproduzidos\n",
    "# Isso é importante para comparar a acurácia com outros algoritmos de Machine Learning.\n",
    "seed = 7"
   ]
  },
  {
   "cell_type": "code",
   "execution_count": 142,
   "metadata": {},
   "outputs": [],
   "source": [
    "# Criando os conjuntos de dados de treino e de teste\n",
    "X_treino, X_teste, Y_treino, Y_teste = train_test_split(X, Y, test_size = teste_size, random_state = seed)"
   ]
  },
  {
   "cell_type": "code",
   "execution_count": 143,
   "metadata": {},
   "outputs": [],
   "source": [
    "# Preparando a lista de modelos instanciados\n",
    "modelos = []\n",
    "modelos.append(('KNN', KNeighborsClassifier()))\n",
    "modelos.append(('CART', DecisionTreeClassifier()))\n",
    "modelos.append(('LR', LogisticRegression()))\n",
    "modelos.append(('NB', GaussianNB()))\n",
    "modelos.append(('SVM', SVC()))\n",
    "modelos.append(('RFor', RandomForestClassifier()))\n",
    "modelos.append(('AdaB', AdaBoostClassifier()))"
   ]
  },
  {
   "cell_type": "code",
   "execution_count": 144,
   "metadata": {},
   "outputs": [],
   "source": [
    "# Avaliando cada modelo em um loop\n",
    "dicAcuracia = {}\n",
    "dicMatriz = {}\n",
    "dicRelatorio = {}\n",
    "\n",
    "for nome, modelo in modelos:\n",
    "    # Treinamento do modelo\n",
    "    modelo.fit(X_treino, Y_treino)\n",
    "    # Fazendo as previsões e construindo a Matriz de Confusão\n",
    "    previsoes = modelo.predict(X_teste)\n",
    "    # Obtendo a matriz de confusão\n",
    "    matrix = confusion_matrix(Y_teste, previsoes)\n",
    "    # construindo o relatório de resultados\n",
    "    report = classification_report(Y_teste, previsoes)\n",
    "    # Score do modelo nos dados de teste  (Acurácia)\n",
    "    acuracia = modelo.score(X_teste, Y_teste)\n",
    "    # Criando dicionários para a acurácia matriz de confusão e relatório\n",
    "    dicAcuracia[nome] = acuracia*100.0\n",
    "    dicMatriz[nome] = matrix\n",
    "    dicRelatorio[nome] = report"
   ]
  },
  {
   "cell_type": "code",
   "execution_count": 145,
   "metadata": {},
   "outputs": [],
   "source": [
    "# Montando um dataframe com a acurácia obtida de cada modelo\n",
    "pdAcuraciaModelos = pd.DataFrame(dicAcuracia.items())\n",
    "pdAcuraciaModelos.columns = ['nome','acuracia']"
   ]
  },
  {
   "cell_type": "code",
   "execution_count": 146,
   "metadata": {},
   "outputs": [
    {
     "data": {
      "text/html": [
       "<div>\n",
       "<style scoped>\n",
       "    .dataframe tbody tr th:only-of-type {\n",
       "        vertical-align: middle;\n",
       "    }\n",
       "\n",
       "    .dataframe tbody tr th {\n",
       "        vertical-align: top;\n",
       "    }\n",
       "\n",
       "    .dataframe thead th {\n",
       "        text-align: right;\n",
       "    }\n",
       "</style>\n",
       "<table border=\"1\" class=\"dataframe\">\n",
       "  <thead>\n",
       "    <tr style=\"text-align: right;\">\n",
       "      <th></th>\n",
       "      <th>nome</th>\n",
       "      <th>acuracia</th>\n",
       "    </tr>\n",
       "  </thead>\n",
       "  <tbody>\n",
       "    <tr>\n",
       "      <th>6</th>\n",
       "      <td>AdaB</td>\n",
       "      <td>86.087625</td>\n",
       "    </tr>\n",
       "    <tr>\n",
       "      <th>5</th>\n",
       "      <td>RFor</td>\n",
       "      <td>83.089931</td>\n",
       "    </tr>\n",
       "    <tr>\n",
       "      <th>4</th>\n",
       "      <td>SVM</td>\n",
       "      <td>82.475019</td>\n",
       "    </tr>\n",
       "    <tr>\n",
       "      <th>0</th>\n",
       "      <td>KNN</td>\n",
       "      <td>81.168332</td>\n",
       "    </tr>\n",
       "    <tr>\n",
       "      <th>2</th>\n",
       "      <td>LR</td>\n",
       "      <td>77.248271</td>\n",
       "    </tr>\n",
       "    <tr>\n",
       "      <th>1</th>\n",
       "      <td>CART</td>\n",
       "      <td>75.403536</td>\n",
       "    </tr>\n",
       "    <tr>\n",
       "      <th>3</th>\n",
       "      <td>NB</td>\n",
       "      <td>72.328978</td>\n",
       "    </tr>\n",
       "  </tbody>\n",
       "</table>\n",
       "</div>"
      ],
      "text/plain": [
       "   nome   acuracia\n",
       "6  AdaB  86.087625\n",
       "5  RFor  83.089931\n",
       "4   SVM  82.475019\n",
       "0   KNN  81.168332\n",
       "2    LR  77.248271\n",
       "1  CART  75.403536\n",
       "3    NB  72.328978"
      ]
     },
     "execution_count": 146,
     "metadata": {},
     "output_type": "execute_result"
    }
   ],
   "source": [
    "# Apresenta a acurácia dos modelos ordenados\n",
    "pdAcuraciaModelos.sort_values(ascending=False, by='acuracia')"
   ]
  },
  {
   "cell_type": "code",
   "execution_count": 147,
   "metadata": {},
   "outputs": [
    {
     "data": {
      "text/plain": [
       "array([[529, 109],\n",
       "       [111, 552]], dtype=int64)"
      ]
     },
     "execution_count": 147,
     "metadata": {},
     "output_type": "execute_result"
    }
   ],
   "source": [
    "# Apresenta a matriz de confusão para o Random Forest\n",
    "dicMatriz['RFor']"
   ]
  },
  {
   "cell_type": "code",
   "execution_count": 148,
   "metadata": {},
   "outputs": [
    {
     "data": {
      "text/plain": [
       "array([[544,  94],\n",
       "       [ 87, 576]], dtype=int64)"
      ]
     },
     "execution_count": 148,
     "metadata": {},
     "output_type": "execute_result"
    }
   ],
   "source": [
    "# Apresenta a matriz de confusão para o Random Forest\n",
    "dicMatriz['AdaB']"
   ]
  },
  {
   "cell_type": "code",
   "execution_count": null,
   "metadata": {},
   "outputs": [],
   "source": [
    "# Apresenta a matriz de confusão para o Random Forest\n",
    "dicMatriz['SVM']"
   ]
  },
  {
   "cell_type": "code",
   "execution_count": null,
   "metadata": {},
   "outputs": [],
   "source": [
    "# Apresenta a matriz de confusão para o Random Forest\n",
    "dicMatriz['KNN']"
   ]
  },
  {
   "cell_type": "code",
   "execution_count": null,
   "metadata": {},
   "outputs": [],
   "source": [
    "# Apresenta a matriz de confusão para o Random Forest\n",
    "dicMatriz['LR']"
   ]
  },
  {
   "cell_type": "code",
   "execution_count": null,
   "metadata": {},
   "outputs": [],
   "source": [
    "# Apresenta a matriz de confusão para o Random Forest\n",
    "dicMatriz['CART']"
   ]
  },
  {
   "cell_type": "code",
   "execution_count": null,
   "metadata": {},
   "outputs": [],
   "source": [
    "# Apresenta a matriz de confusão para o Random Forest\n",
    "dicMatriz['NB']"
   ]
  },
  {
   "cell_type": "code",
   "execution_count": 149,
   "metadata": {},
   "outputs": [
    {
     "data": {
      "image/png": "[encoded data removed]",
      "text/plain": [
       "<Figure size 432x288 with 1 Axes>"
      ]
     },
     "metadata": {
      "needs_background": "light"
     },
     "output_type": "display_data"
    }
   ],
   "source": [
    "# Gráfico de barras para comparar a acurácia entre os modelos\n",
    "plt.bar(list(dicAcuracia.keys()), dicAcuracia.values(), color='red')\n",
    "# legenda do eixo x\n",
    "plt.xticks(list(dicAcuracia.keys()))\n",
    "# Label eixo Y\n",
    "plt.ylabel('Acurácia')\n",
    "# Label eixo X\n",
    "plt.xlabel('Classificador')\n",
    "# Título do gráfico\n",
    "plt.title('Classificador x Acurácia')\n",
    "# mostra o gráfico\n",
    "plt.show()"
   ]
  },
  {
   "cell_type": "markdown",
   "metadata": {},
   "source": [
    "### <font size = '2'>prof. Dr. Ivan Carlos Alcântara de Oliveira</font> - <font color=\"blue\">https://orcid.org/0000-0002-6020-7535</font>"
   ]
  },
  {
   "cell_type": "code",
   "execution_count": null,
   "metadata": {},
   "outputs": [],
   "source": []
  }
 ],
 "metadata": {
  "anaconda-cloud": {},
  "kernelspec": {
   "display_name": "Python 3",
   "language": "python",
   "name": "python3"
  },
  "language_info": {
   "codemirror_mode": {
    "name": "ipython",
    "version": 3
   },
   "file_extension": ".py",
   "mimetype": "text/x-python",
   "name": "python",
   "nbconvert_exporter": "python",
   "pygments_lexer": "ipython3",
   "version": "3.7.3"
  }
 },
 "nbformat": 4,
 "nbformat_minor": 1
}
